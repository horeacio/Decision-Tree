{
 "cells": [
  {
   "cell_type": "markdown",
   "id": "2041c8c3-fafe-4e2a-9be3-c1171adae88a",
   "metadata": {},
   "source": [
    "# Visualize a Decision Tree in 4 Ways with Scikit-Learn and Python\n",
    "\n",
    "## https://mljar.com/blog/visualize-decision-tree/\n"
   ]
  },
  {
   "cell_type": "markdown",
   "id": "be0df6bc-2576-4811-a630-64b85d261c5a",
   "metadata": {
    "tags": []
   },
   "source": [
    "## Train Decision Tree on Classification Task"
   ]
  },
  {
   "cell_type": "code",
   "execution_count": null,
   "id": "ec3c271b-5a33-4832-8681-82187d2aeb47",
   "metadata": {
    "tags": []
   },
   "outputs": [],
   "source": [
    "from matplotlib import pyplot as plt\n",
    "from sklearn import datasets\n",
    "from sklearn.tree import DecisionTreeClassifier \n",
    "from sklearn import tree"
   ]
  },
  {
   "cell_type": "code",
   "execution_count": null,
   "id": "56bb5b08-04c2-4225-9c51-659e525d5897",
   "metadata": {
    "tags": []
   },
   "outputs": [],
   "source": [
    "# Prepare the data data\n",
    "iris = datasets.load_iris()\n",
    "X = iris.data\n",
    "y = iris.target"
   ]
  },
  {
   "cell_type": "code",
   "execution_count": null,
   "id": "049ce851-862d-459d-8fc3-484d41f0198f",
   "metadata": {
    "tags": []
   },
   "outputs": [],
   "source": [
    "# Fit the classifier with default hyper-parameters\n",
    "clf = DecisionTreeClassifier(random_state=1234)\n",
    "model = clf.fit(X, y)"
   ]
  },
  {
   "cell_type": "markdown",
   "id": "88efca70-47c4-4fe5-bf28-675a18e63b94",
   "metadata": {},
   "source": [
    "## Print Text Representation"
   ]
  },
  {
   "cell_type": "code",
   "execution_count": null,
   "id": "f6180081-f0f1-4ed3-a62f-c3b3f6f7e5d9",
   "metadata": {
    "tags": []
   },
   "outputs": [],
   "source": [
    "text_representation = tree.export_text(clf)\n",
    "print(text_representation)"
   ]
  },
  {
   "cell_type": "code",
   "execution_count": null,
   "id": "bae39254-2669-4f72-969d-32bc8c47c45b",
   "metadata": {},
   "outputs": [],
   "source": [
    "# with open(\"decistion_tree.log\", \"w\") as fout:\n",
    "#     fout.write(text_representation)"
   ]
  },
  {
   "cell_type": "markdown",
   "id": "5e9de3c0-b33a-4a66-8a9a-61bfbf9cc057",
   "metadata": {},
   "source": [
    "## Plot Tree with plot_tree"
   ]
  },
  {
   "cell_type": "code",
   "execution_count": null,
   "id": "582e14fd-c370-472d-a0b9-b30b8f1a16a4",
   "metadata": {
    "tags": []
   },
   "outputs": [],
   "source": [
    "import numpy as np\n",
    "from matplotlib import pyplot as plt\n",
    "\n",
    "from sklearn.model_selection import train_test_split\n",
    "from sklearn.datasets import load_iris\n",
    "from sklearn.tree import DecisionTreeClassifier\n",
    "from sklearn import tree\n",
    "\n",
    "iris = load_iris()\n",
    "X = iris.data\n",
    "y = iris.target\n",
    "X_train, X_test, y_train, y_test = train_test_split(X, y, random_state=0)\n",
    "\n",
    "clf = DecisionTreeClassifier(max_leaf_nodes=3, random_state=0)\n",
    "clf.fit(X_train, y_train)\n",
    "\n",
    "# Symbolic class name representation\n",
    "# tree.plot_tree(clf, class_names=None)\n",
    "\n",
    "# Specific class name representation\n",
    "class_names = list(iris['target_names'])\n",
    "tree.plot_tree(clf, class_names=class_names)"
   ]
  },
  {
   "cell_type": "code",
   "execution_count": null,
   "id": "16952051-b96d-4bc1-be08-c13fa2930bf1",
   "metadata": {
    "tags": []
   },
   "outputs": [],
   "source": [
    "fig = plt.figure(figsize=(20,15))\n",
    "_ = tree.plot_tree(clf, \n",
    "                   feature_names=iris.feature_names,  \n",
    "                   class_names=list(iris.target_names),\n",
    "                   filled=True)"
   ]
  },
  {
   "cell_type": "code",
   "execution_count": null,
   "id": "c81ac960-a4c7-4ed8-94ed-d094e9129937",
   "metadata": {},
   "outputs": [],
   "source": [
    "# fig.savefig(\"decistion_tree.png\")"
   ]
  },
  {
   "cell_type": "markdown",
   "id": "ef3eb7f1-37b5-4d2f-9c49-1de7b2993d57",
   "metadata": {},
   "source": [
    "## Visualize Decision Tree with graphviz"
   ]
  },
  {
   "cell_type": "code",
   "execution_count": null,
   "id": "b7aa3c48-5249-45f4-b756-703381e0ad06",
   "metadata": {
    "tags": []
   },
   "outputs": [],
   "source": [
    "import graphviz\n",
    "# DOT data\n",
    "dot_data = tree.export_graphviz(clf, out_file=None, \n",
    "                                feature_names=iris.feature_names,  \n",
    "                                class_names=iris.target_names,\n",
    "                                filled=True)\n",
    "\n",
    "# Draw graph\n",
    "graph = graphviz.Source(dot_data, format=\"png\") \n",
    "graph"
   ]
  },
  {
   "cell_type": "code",
   "execution_count": null,
   "id": "fedee876-96be-4372-8269-2268dbd5b8df",
   "metadata": {},
   "outputs": [],
   "source": [
    "# graph.render(\"decision_tree_graphivz\")"
   ]
  },
  {
   "cell_type": "markdown",
   "id": "3a60ae81-5b89-42f5-8c45-818a052f12ea",
   "metadata": {},
   "source": [
    "## Plot Decision Tree with dtreeviz Package"
   ]
  },
  {
   "cell_type": "code",
   "execution_count": null,
   "id": "1938449d-5f20-40d5-8175-dda4aea00940",
   "metadata": {
    "tags": []
   },
   "outputs": [],
   "source": [
    "#!pip install dtreeviz"
   ]
  },
  {
   "cell_type": "code",
   "execution_count": null,
   "id": "7703f80e-5f35-4362-867e-56b807a6ede0",
   "metadata": {
    "tags": []
   },
   "outputs": [],
   "source": [
    "import dtreeviz\n",
    "\n",
    "viz = dtreeviz.model(clf, X, y,\n",
    "                target_name=\"target\",\n",
    "                feature_names=iris.feature_names,\n",
    "                class_names=iris.target_names)\n",
    "\n",
    "viz.view(scale=1.5)"
   ]
  },
  {
   "cell_type": "code",
   "execution_count": null,
   "id": "c6ecdf89-5006-43dc-89cb-1e0367b745ac",
   "metadata": {},
   "outputs": [],
   "source": [
    "# viz.save(\"decision_tree.svg\")"
   ]
  },
  {
   "cell_type": "code",
   "execution_count": null,
   "id": "1e36170f-780a-4378-8d8d-af7c67b57ba0",
   "metadata": {},
   "outputs": [],
   "source": []
  }
 ],
 "metadata": {
  "kernelspec": {
   "display_name": "Python 3 (ipykernel)",
   "language": "python",
   "name": "python3"
  },
  "language_info": {
   "codemirror_mode": {
    "name": "ipython",
    "version": 3
   },
   "file_extension": ".py",
   "mimetype": "text/x-python",
   "name": "python",
   "nbconvert_exporter": "python",
   "pygments_lexer": "ipython3",
   "version": "3.10.12"
  }
 },
 "nbformat": 4,
 "nbformat_minor": 5
}
