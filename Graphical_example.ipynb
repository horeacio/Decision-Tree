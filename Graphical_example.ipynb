{
 "cells": [
  {
   "cell_type": "markdown",
   "metadata": {},
   "source": [
    "#Resource\n",
    "\n",
    "https://stackoverflow.com/questions/61901365/modulenotfounderror-no-module-named-sklearn-externals-six\n",
    "\n",
    "https://stackoverflow.com/questions/28312534/graphvizs-executables-are-not-found-python-3-4\n",
    "\n",
    "https://mljar.com/blog/visualize-decision-tree/\n"
   ]
  },
  {
   "cell_type": "markdown",
   "metadata": {},
   "source": [
    "# A graphical example"
   ]
  },
  {
   "cell_type": "code",
   "execution_count": null,
   "metadata": {
    "tags": []
   },
   "outputs": [],
   "source": [
    "# %pip install sklearn\n",
    "# %pip install mglearn\n",
    "# %brew install graphviz"
   ]
  },
  {
   "cell_type": "code",
   "execution_count": null,
   "metadata": {
    "tags": []
   },
   "outputs": [],
   "source": [
    "import six\n",
    "import sys\n",
    "sys.modules['sklearn.externals.six'] = six"
   ]
  },
  {
   "cell_type": "code",
   "execution_count": null,
   "metadata": {
    "tags": []
   },
   "outputs": [],
   "source": [
    "import numpy as np\n",
    "from matplotlib import pyplot\n",
    "\n",
    "# Some functions to plot our points and draw the models\n",
    "def plot_points(features, labels, size_of_points=100):\n",
    "    X = np.array(features)\n",
    "    y = np.array(labels)\n",
    "    class1 = X[np.argwhere(y==0)]\n",
    "    class2 = X[np.argwhere(y==1)]\n",
    "    pyplot.scatter([s[0][0] for s in class1],\n",
    "                [s[0][1] for s in class1],\n",
    "                s = size_of_points,\n",
    "                color = 'red',\n",
    "                edgecolor = 'k',\n",
    "                marker = '^')\n",
    "    pyplot.scatter([s[0][0] for s in class2],\n",
    "                [s[0][1] for s in class2],\n",
    "                s = size_of_points,\n",
    "                color = 'green',\n",
    "                edgecolor = 'k',\n",
    "                marker = 's')\n",
    "\n",
    "def plot_model(X, y, model, size_of_points=100):\n",
    "    X = np.array(X)\n",
    "    y = np.array(y)\n",
    "    plot_step = 0.2\n",
    "    x_min, x_max = X[:, 0].min() - 1, X[:, 0].max() + 1\n",
    "    y_min, y_max = X[:, 1].min() - 1, X[:, 1].max() + 1\n",
    "    xx, yy = np.meshgrid(np.arange(x_min, x_max, plot_step),\n",
    "                         np.arange(y_min, y_max, plot_step))\n",
    "    Z = model.predict(np.c_[xx.ravel(), yy.ravel()])\n",
    "    Z = Z.reshape(xx.shape)\n",
    "    pyplot.contourf(xx, yy, Z, colors=['red', 'blue'], alpha=0.2, levels=range(-1,2))\n",
    "    pyplot.contour(xx, yy, Z,colors = 'k',linewidths = 1)\n",
    "    plot_points(X, y, size_of_points)\n",
    "    pyplot.show()\n",
    "    \n",
    "def display_tree(dt):\n",
    "    from sklearn.externals.six import StringIO  \n",
    "    from IPython.display import Image  \n",
    "    from sklearn.tree import export_graphviz\n",
    "    import pydotplus\n",
    "    dot_data = StringIO()\n",
    "    export_graphviz(dt, out_file=dot_data,  \n",
    "                    filled=True, rounded=True,\n",
    "                    special_characters=True)\n",
    "    graph = pydotplus.graph_from_dot_data(dot_data.getvalue())  \n",
    "    return Image(graph.create_png())\n"
   ]
  },
  {
   "cell_type": "markdown",
   "metadata": {},
   "source": [
    "## A Toy Example"
   ]
  },
  {
   "cell_type": "code",
   "execution_count": null,
   "metadata": {
    "tags": []
   },
   "outputs": [],
   "source": [
    "import pandas as pd\n",
    "from sklearn.tree import DecisionTreeClassifier\n",
    "import utils"
   ]
  },
  {
   "cell_type": "code",
   "execution_count": null,
   "metadata": {
    "tags": []
   },
   "outputs": [],
   "source": [
    "dataset = pd.DataFrame({\n",
    "    'x_0':[7,3,2,1,2,4,1,8,6,7,8,9],\n",
    "    'x_1':[1,2,3,5,6,7,9,10,5,8,4,6],\n",
    "    'y': [0,0,0,0,0,0,1,1,1,1,1,1]})\n",
    "\n",
    "dataset"
   ]
  },
  {
   "cell_type": "code",
   "execution_count": null,
   "metadata": {
    "tags": []
   },
   "outputs": [],
   "source": [
    "features = dataset[['x_0', 'x_1']]\n",
    "labels = dataset['y']\n",
    "\n",
    "plot_points(features, labels)"
   ]
  },
  {
   "cell_type": "markdown",
   "metadata": {},
   "source": [
    "# Building a decision tree using Gini index"
   ]
  },
  {
   "cell_type": "code",
   "execution_count": null,
   "metadata": {
    "tags": []
   },
   "outputs": [],
   "source": [
    "decision_tree = DecisionTreeClassifier()\n",
    "decision_tree.fit(features, labels)\n",
    "decision_tree.score(features, labels)"
   ]
  },
  {
   "cell_type": "code",
   "execution_count": null,
   "metadata": {
    "tags": []
   },
   "outputs": [],
   "source": [
    "display_tree(decision_tree)"
   ]
  },
  {
   "cell_type": "code",
   "execution_count": null,
   "metadata": {
    "tags": []
   },
   "outputs": [],
   "source": [
    "plot_model(features, labels, decision_tree)"
   ]
  },
  {
   "cell_type": "markdown",
   "metadata": {},
   "source": [
    "# Building a decision tree using entropy"
   ]
  },
  {
   "cell_type": "code",
   "execution_count": null,
   "metadata": {
    "tags": []
   },
   "outputs": [],
   "source": [
    "decision_tree_entropy = DecisionTreeClassifier(criterion='entropy')\n",
    "decision_tree_entropy.fit(features, labels)\n",
    "decision_tree_entropy.score(features, labels)"
   ]
  },
  {
   "cell_type": "code",
   "execution_count": null,
   "metadata": {
    "tags": []
   },
   "outputs": [],
   "source": [
    "display_tree(decision_tree_entropy)"
   ]
  },
  {
   "cell_type": "code",
   "execution_count": null,
   "metadata": {
    "tags": []
   },
   "outputs": [],
   "source": [
    "plot_model(features, labels, decision_tree_entropy)"
   ]
  },
  {
   "cell_type": "markdown",
   "metadata": {},
   "source": [
    "# Building a decision tree of depth one (a vertical or horizontal line)"
   ]
  },
  {
   "cell_type": "code",
   "execution_count": null,
   "metadata": {
    "tags": []
   },
   "outputs": [],
   "source": [
    "decision_tree_depth_1 = DecisionTreeClassifier(max_depth=1)\n",
    "decision_tree_depth_1.fit(features, labels)\n",
    "decision_tree_depth_1.score(features, labels)\n",
    "plot_model(features, labels, decision_tree_depth_1)"
   ]
  },
  {
   "cell_type": "code",
   "execution_count": null,
   "metadata": {
    "tags": []
   },
   "outputs": [],
   "source": [
    "display_tree(decision_tree_depth_1)"
   ]
  },
  {
   "cell_type": "code",
   "execution_count": null,
   "metadata": {
    "tags": []
   },
   "outputs": [],
   "source": [
    "decision_tree_depth_2 = DecisionTreeClassifier(max_depth=2)\n",
    "decision_tree_depth_2.fit(features, labels)\n",
    "decision_tree_depth_2.score(features, labels)\n",
    "plot_model(features, labels, decision_tree_depth_2)"
   ]
  },
  {
   "cell_type": "code",
   "execution_count": null,
   "metadata": {
    "tags": []
   },
   "outputs": [],
   "source": [
    "display_tree(decision_tree_depth_2)"
   ]
  },
  {
   "cell_type": "code",
   "execution_count": null,
   "metadata": {},
   "outputs": [],
   "source": []
  }
 ],
 "metadata": {
  "kernelspec": {
   "display_name": "Python 3 (ipykernel)",
   "language": "python",
   "name": "python3"
  },
  "language_info": {
   "codemirror_mode": {
    "name": "ipython",
    "version": 3
   },
   "file_extension": ".py",
   "mimetype": "text/x-python",
   "name": "python",
   "nbconvert_exporter": "python",
   "pygments_lexer": "ipython3",
   "version": "3.10.12"
  }
 },
 "nbformat": 4,
 "nbformat_minor": 4
}
